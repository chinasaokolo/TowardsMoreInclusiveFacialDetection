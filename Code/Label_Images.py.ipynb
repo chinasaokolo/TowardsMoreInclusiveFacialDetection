{
 "cells": [
  {
   "cell_type": "code",
   "execution_count": null,
   "metadata": {
    "collapsed": true
   },
   "outputs": [],
   "source": [
    "# Using the MUCT dataset, all images except for those with the \"qa\" designation have been removed\n",
    "\n",
    "label_image = []\n",
    "files = glob.glob (\"*.jpg\")\n",
    "for myFile in files:\n",
    "    image = cv2.imread (myFile)\n",
    "    label_image.append (image)\n",
    "\n",
    "print('label_image:', np.array(label_image))"
   ]
  }
 ],
 "metadata": {
  "kernelspec": {
   "display_name": "Python 3",
   "language": "python",
   "name": "python3"
  },
  "language_info": {
   "codemirror_mode": {
    "name": "ipython",
    "version": 3
   },
   "file_extension": ".py",
   "mimetype": "text/x-python",
   "name": "python",
   "nbconvert_exporter": "python",
   "pygments_lexer": "ipython3",
   "version": "3.6.3"
  }
 },
 "nbformat": 4,
 "nbformat_minor": 2
}
